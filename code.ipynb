{
 "cells": [
  {
   "cell_type": "code",
   "execution_count": 2,
   "metadata": {},
   "outputs": [],
   "source": [
    "#wicketkeeper price prediction\n",
    "import pandas as pd\n",
    "import matplotlib.pyplot as plt\n",
    "import numpy as np\n",
    "from sklearn import linear_model"
   ]
  },
  {
   "cell_type": "code",
   "execution_count": 24,
   "metadata": {},
   "outputs": [
    {
     "data": {
      "text/html": [
       "<div>\n",
       "<style scoped>\n",
       "    .dataframe tbody tr th:only-of-type {\n",
       "        vertical-align: middle;\n",
       "    }\n",
       "\n",
       "    .dataframe tbody tr th {\n",
       "        vertical-align: top;\n",
       "    }\n",
       "\n",
       "    .dataframe thead th {\n",
       "        text-align: right;\n",
       "    }\n",
       "</style>\n",
       "<table border=\"1\" class=\"dataframe\">\n",
       "  <thead>\n",
       "    <tr style=\"text-align: right;\">\n",
       "      <th></th>\n",
       "      <th>PLAYER_NAME</th>\n",
       "      <th>DOMESTIC/INTERNATIONAL</th>\n",
       "      <th>Test_RUNS</th>\n",
       "      <th>ODI_RUNS</th>\n",
       "      <th>ODI_SR_B</th>\n",
       "      <th>CAPTAINCY_EXP</th>\n",
       "      <th>RUNS_S</th>\n",
       "      <th>HS</th>\n",
       "      <th>AVE</th>\n",
       "      <th>SR_B</th>\n",
       "      <th>SIXERS</th>\n",
       "      <th>BASE_PRICE</th>\n",
       "      <th>SOLD_PRICE</th>\n",
       "    </tr>\n",
       "  </thead>\n",
       "  <tbody>\n",
       "    <tr>\n",
       "      <th>0</th>\n",
       "      <td>Dhoni, MS</td>\n",
       "      <td>DOMESTIC</td>\n",
       "      <td>3509</td>\n",
       "      <td>6773</td>\n",
       "      <td>88.19</td>\n",
       "      <td>1</td>\n",
       "      <td>1782</td>\n",
       "      <td>70</td>\n",
       "      <td>37.13</td>\n",
       "      <td>136.45</td>\n",
       "      <td>64</td>\n",
       "      <td>400000</td>\n",
       "      <td>1500000</td>\n",
       "    </tr>\n",
       "    <tr>\n",
       "      <th>1</th>\n",
       "      <td>Karthik, KD</td>\n",
       "      <td>DOMESTIC</td>\n",
       "      <td>1000</td>\n",
       "      <td>1008</td>\n",
       "      <td>74.50</td>\n",
       "      <td>0</td>\n",
       "      <td>1231</td>\n",
       "      <td>69</td>\n",
       "      <td>24.14</td>\n",
       "      <td>123.84</td>\n",
       "      <td>28</td>\n",
       "      <td>200000</td>\n",
       "      <td>525000</td>\n",
       "    </tr>\n",
       "    <tr>\n",
       "      <th>2</th>\n",
       "      <td>Ojha, NV</td>\n",
       "      <td>DOMESTIC</td>\n",
       "      <td>0</td>\n",
       "      <td>1</td>\n",
       "      <td>14.28</td>\n",
       "      <td>0</td>\n",
       "      <td>960</td>\n",
       "      <td>94</td>\n",
       "      <td>22.33</td>\n",
       "      <td>117.94</td>\n",
       "      <td>50</td>\n",
       "      <td>100000</td>\n",
       "      <td>270000</td>\n",
       "    </tr>\n",
       "    <tr>\n",
       "      <th>3</th>\n",
       "      <td>Patel, PA</td>\n",
       "      <td>DOMESTIC</td>\n",
       "      <td>683</td>\n",
       "      <td>736</td>\n",
       "      <td>76.50</td>\n",
       "      <td>0</td>\n",
       "      <td>912</td>\n",
       "      <td>57</td>\n",
       "      <td>20.27</td>\n",
       "      <td>107.29</td>\n",
       "      <td>13</td>\n",
       "      <td>150000</td>\n",
       "      <td>325000</td>\n",
       "    </tr>\n",
       "    <tr>\n",
       "      <th>4</th>\n",
       "      <td>Saha, WP</td>\n",
       "      <td>DOMESTIC</td>\n",
       "      <td>74</td>\n",
       "      <td>4</td>\n",
       "      <td>80.00</td>\n",
       "      <td>0</td>\n",
       "      <td>372</td>\n",
       "      <td>59</td>\n",
       "      <td>28.62</td>\n",
       "      <td>128.28</td>\n",
       "      <td>16</td>\n",
       "      <td>100000</td>\n",
       "      <td>100000</td>\n",
       "    </tr>\n",
       "    <tr>\n",
       "      <th>5</th>\n",
       "      <td>Boucher, MV</td>\n",
       "      <td>INTERNATIONAL</td>\n",
       "      <td>5515</td>\n",
       "      <td>4686</td>\n",
       "      <td>84.76</td>\n",
       "      <td>1</td>\n",
       "      <td>394</td>\n",
       "      <td>50</td>\n",
       "      <td>28.14</td>\n",
       "      <td>127.51</td>\n",
       "      <td>13</td>\n",
       "      <td>200000</td>\n",
       "      <td>450000</td>\n",
       "    </tr>\n",
       "    <tr>\n",
       "      <th>6</th>\n",
       "      <td>de Villiers, AB</td>\n",
       "      <td>INTERNATIONAL</td>\n",
       "      <td>5457</td>\n",
       "      <td>4998</td>\n",
       "      <td>93.19</td>\n",
       "      <td>1</td>\n",
       "      <td>1302</td>\n",
       "      <td>105</td>\n",
       "      <td>34.26</td>\n",
       "      <td>128.53</td>\n",
       "      <td>42</td>\n",
       "      <td>200000</td>\n",
       "      <td>300000</td>\n",
       "    </tr>\n",
       "    <tr>\n",
       "      <th>7</th>\n",
       "      <td>Gilchrist, AC</td>\n",
       "      <td>INTERNATIONAL</td>\n",
       "      <td>5570</td>\n",
       "      <td>9619</td>\n",
       "      <td>96.94</td>\n",
       "      <td>1</td>\n",
       "      <td>1775</td>\n",
       "      <td>109</td>\n",
       "      <td>27.73</td>\n",
       "      <td>140.21</td>\n",
       "      <td>86</td>\n",
       "      <td>300000</td>\n",
       "      <td>700000</td>\n",
       "    </tr>\n",
       "    <tr>\n",
       "      <th>8</th>\n",
       "      <td>Kamran Akmal</td>\n",
       "      <td>INTERNATIONAL</td>\n",
       "      <td>2648</td>\n",
       "      <td>2924</td>\n",
       "      <td>84.31</td>\n",
       "      <td>0</td>\n",
       "      <td>128</td>\n",
       "      <td>53</td>\n",
       "      <td>25.60</td>\n",
       "      <td>164.10</td>\n",
       "      <td>8</td>\n",
       "      <td>150000</td>\n",
       "      <td>150000</td>\n",
       "    </tr>\n",
       "    <tr>\n",
       "      <th>9</th>\n",
       "      <td>McCullum, BB</td>\n",
       "      <td>INTERNATIONAL</td>\n",
       "      <td>3763</td>\n",
       "      <td>4511</td>\n",
       "      <td>89.62</td>\n",
       "      <td>1</td>\n",
       "      <td>1233</td>\n",
       "      <td>158</td>\n",
       "      <td>28.02</td>\n",
       "      <td>123.42</td>\n",
       "      <td>48</td>\n",
       "      <td>175000</td>\n",
       "      <td>700000</td>\n",
       "    </tr>\n",
       "    <tr>\n",
       "      <th>10</th>\n",
       "      <td>Sangakkara, KC</td>\n",
       "      <td>INTERNATIONAL</td>\n",
       "      <td>9382</td>\n",
       "      <td>10472</td>\n",
       "      <td>75.75</td>\n",
       "      <td>1</td>\n",
       "      <td>1567</td>\n",
       "      <td>94</td>\n",
       "      <td>27.98</td>\n",
       "      <td>124.76</td>\n",
       "      <td>27</td>\n",
       "      <td>250000</td>\n",
       "      <td>700000</td>\n",
       "    </tr>\n",
       "    <tr>\n",
       "      <th>11</th>\n",
       "      <td>Taibu, T</td>\n",
       "      <td>INTERNATIONAL</td>\n",
       "      <td>1546</td>\n",
       "      <td>3393</td>\n",
       "      <td>67.58</td>\n",
       "      <td>1</td>\n",
       "      <td>31</td>\n",
       "      <td>15</td>\n",
       "      <td>10.33</td>\n",
       "      <td>119.23</td>\n",
       "      <td>0</td>\n",
       "      <td>125000</td>\n",
       "      <td>125000</td>\n",
       "    </tr>\n",
       "  </tbody>\n",
       "</table>\n",
       "</div>"
      ],
      "text/plain": [
       "        PLAYER_NAME DOMESTIC/INTERNATIONAL  Test_RUNS  ODI_RUNS  ODI_SR_B  \\\n",
       "0         Dhoni, MS               DOMESTIC       3509      6773     88.19   \n",
       "1       Karthik, KD               DOMESTIC       1000      1008     74.50   \n",
       "2          Ojha, NV               DOMESTIC          0         1     14.28   \n",
       "3         Patel, PA               DOMESTIC        683       736     76.50   \n",
       "4          Saha, WP               DOMESTIC         74         4     80.00   \n",
       "5       Boucher, MV          INTERNATIONAL       5515      4686     84.76   \n",
       "6   de Villiers, AB          INTERNATIONAL       5457      4998     93.19   \n",
       "7     Gilchrist, AC          INTERNATIONAL       5570      9619     96.94   \n",
       "8      Kamran Akmal          INTERNATIONAL       2648      2924     84.31   \n",
       "9      McCullum, BB          INTERNATIONAL       3763      4511     89.62   \n",
       "10   Sangakkara, KC          INTERNATIONAL       9382     10472     75.75   \n",
       "11         Taibu, T          INTERNATIONAL       1546      3393     67.58   \n",
       "\n",
       "    CAPTAINCY_EXP  RUNS_S   HS    AVE    SR_B  SIXERS  BASE_PRICE  SOLD_PRICE  \n",
       "0               1    1782   70  37.13  136.45      64      400000     1500000  \n",
       "1               0    1231   69  24.14  123.84      28      200000      525000  \n",
       "2               0     960   94  22.33  117.94      50      100000      270000  \n",
       "3               0     912   57  20.27  107.29      13      150000      325000  \n",
       "4               0     372   59  28.62  128.28      16      100000      100000  \n",
       "5               1     394   50  28.14  127.51      13      200000      450000  \n",
       "6               1    1302  105  34.26  128.53      42      200000      300000  \n",
       "7               1    1775  109  27.73  140.21      86      300000      700000  \n",
       "8               0     128   53  25.60  164.10       8      150000      150000  \n",
       "9               1    1233  158  28.02  123.42      48      175000      700000  \n",
       "10              1    1567   94  27.98  124.76      27      250000      700000  \n",
       "11              1      31   15  10.33  119.23       0      125000      125000  "
      ]
     },
     "execution_count": 24,
     "metadata": {},
     "output_type": "execute_result"
    }
   ],
   "source": [
    "#reading dataset\n",
    "df= pd.read_csv(\"wicketkeeper.csv\")\n",
    "df"
   ]
  },
  {
   "cell_type": "code",
   "execution_count": 27,
   "metadata": {},
   "outputs": [
    {
     "data": {
      "text/plain": [
       "<matplotlib.collections.PathCollection at 0x599c9c0>"
      ]
     },
     "execution_count": 27,
     "metadata": {},
     "output_type": "execute_result"
    },
    {
     "data": {
      "image/png": "[encoded data removed]",
      "text/plain": [
       "<Figure size 640x480 with 1 Axes>"
      ]
     },
     "metadata": {},
     "output_type": "display_data"
    }
   ],
   "source": [
    "#scatter plot between sixers and sold price\n",
    "%matplotlib inline\n",
    "plt.scatter(df.SIXERS, df.SOLD_PRICE, color= 'red', marker= '+')"
   ]
  },
  {
   "cell_type": "code",
   "execution_count": 44,
   "metadata": {},
   "outputs": [
    {
     "data": {
      "text/plain": [
       "array([[1.        , 0.63731005],\n",
       "       [0.63731005, 1.        ]])"
      ]
     },
     "execution_count": 44,
     "metadata": {},
     "output_type": "execute_result"
    }
   ],
   "source": [
    "#finding correlation\n",
    "np.corrcoef(df.SIXERS,df.SOLD_PRICE)"
   ]
  },
  {
   "cell_type": "code",
   "execution_count": 46,
   "metadata": {},
   "outputs": [],
   "source": [
    "#good correlation, we can do regression"
   ]
  },
  {
   "cell_type": "code",
   "execution_count": 53,
   "metadata": {},
   "outputs": [
    {
     "data": {
      "text/html": [
       "<style>#sk-container-id-4 {color: black;background-color: white;}#sk-container-id-4 pre{padding: 0;}#sk-container-id-4 div.sk-toggleable {background-color: white;}#sk-container-id-4 label.sk-toggleable__label {cursor: pointer;display: block;width: 100%;margin-bottom: 0;padding: 0.3em;box-sizing: border-box;text-align: center;}#sk-container-id-4 label.sk-toggleable__label-arrow:before {content: \"▸\";float: left;margin-right: 0.25em;color: #696969;}#sk-container-id-4 label.sk-toggleable__label-arrow:hover:before {color: black;}#sk-container-id-4 div.sk-estimator:hover label.sk-toggleable__label-arrow:before {color: black;}#sk-container-id-4 div.sk-toggleable__content {max-height: 0;max-width: 0;overflow: hidden;text-align: left;background-color: #f0f8ff;}#sk-container-id-4 div.sk-toggleable__content pre {margin: 0.2em;color: black;border-radius: 0.25em;background-color: #f0f8ff;}#sk-container-id-4 input.sk-toggleable__control:checked~div.sk-toggleable__content {max-height: 200px;max-width: 100%;overflow: auto;}#sk-container-id-4 input.sk-toggleable__control:checked~label.sk-toggleable__label-arrow:before {content: \"▾\";}#sk-container-id-4 div.sk-estimator input.sk-toggleable__control:checked~label.sk-toggleable__label {background-color: #d4ebff;}#sk-container-id-4 div.sk-label input.sk-toggleable__control:checked~label.sk-toggleable__label {background-color: #d4ebff;}#sk-container-id-4 input.sk-hidden--visually {border: 0;clip: rect(1px 1px 1px 1px);clip: rect(1px, 1px, 1px, 1px);height: 1px;margin: -1px;overflow: hidden;padding: 0;position: absolute;width: 1px;}#sk-container-id-4 div.sk-estimator {font-family: monospace;background-color: #f0f8ff;border: 1px dotted black;border-radius: 0.25em;box-sizing: border-box;margin-bottom: 0.5em;}#sk-container-id-4 div.sk-estimator:hover {background-color: #d4ebff;}#sk-container-id-4 div.sk-parallel-item::after {content: \"\";width: 100%;border-bottom: 1px solid gray;flex-grow: 1;}#sk-container-id-4 div.sk-label:hover label.sk-toggleable__label {background-color: #d4ebff;}#sk-container-id-4 div.sk-serial::before {content: \"\";position: absolute;border-left: 1px solid gray;box-sizing: border-box;top: 0;bottom: 0;left: 50%;z-index: 0;}#sk-container-id-4 div.sk-serial {display: flex;flex-direction: column;align-items: center;background-color: white;padding-right: 0.2em;padding-left: 0.2em;position: relative;}#sk-container-id-4 div.sk-item {position: relative;z-index: 1;}#sk-container-id-4 div.sk-parallel {display: flex;align-items: stretch;justify-content: center;background-color: white;position: relative;}#sk-container-id-4 div.sk-item::before, #sk-container-id-4 div.sk-parallel-item::before {content: \"\";position: absolute;border-left: 1px solid gray;box-sizing: border-box;top: 0;bottom: 0;left: 50%;z-index: -1;}#sk-container-id-4 div.sk-parallel-item {display: flex;flex-direction: column;z-index: 1;position: relative;background-color: white;}#sk-container-id-4 div.sk-parallel-item:first-child::after {align-self: flex-end;width: 50%;}#sk-container-id-4 div.sk-parallel-item:last-child::after {align-self: flex-start;width: 50%;}#sk-container-id-4 div.sk-parallel-item:only-child::after {width: 0;}#sk-container-id-4 div.sk-dashed-wrapped {border: 1px dashed gray;margin: 0 0.4em 0.5em 0.4em;box-sizing: border-box;padding-bottom: 0.4em;background-color: white;}#sk-container-id-4 div.sk-label label {font-family: monospace;font-weight: bold;display: inline-block;line-height: 1.2em;}#sk-container-id-4 div.sk-label-container {text-align: center;}#sk-container-id-4 div.sk-container {/* jupyter's `normalize.less` sets `[hidden] { display: none; }` but bootstrap.min.css set `[hidden] { display: none !important; }` so we also need the `!important` here to be able to override the default hidden behavior on the sphinx rendered scikit-learn.org. See: https://github.com/scikit-learn/scikit-learn/issues/21755 */display: inline-block !important;position: relative;}#sk-container-id-4 div.sk-text-repr-fallback {display: none;}</style><div id=\"sk-container-id-4\" class=\"sk-top-container\"><div class=\"sk-text-repr-fallback\"><pre>LinearRegression()</pre><b>In a Jupyter environment, please rerun this cell to show the HTML representation or trust the notebook. <br />On GitHub, the HTML representation is unable to render, please try loading this page with nbviewer.org.</b></div><div class=\"sk-container\" hidden><div class=\"sk-item\"><div class=\"sk-estimator sk-toggleable\"><input class=\"sk-toggleable__control sk-hidden--visually\" id=\"sk-estimator-id-4\" type=\"checkbox\" checked><label for=\"sk-estimator-id-4\" class=\"sk-toggleable__label sk-toggleable__label-arrow\">LinearRegression</label><div class=\"sk-toggleable__content\"><pre>LinearRegression()</pre></div></div></div></div></div>"
      ],
      "text/plain": [
       "LinearRegression()"
      ]
     },
     "execution_count": 53,
     "metadata": {},
     "output_type": "execute_result"
    }
   ],
   "source": [
    "reg=linear_model.LinearRegression()\n",
    "reg.fit(df[['SIXERS']],df.SOLD_PRICE)"
   ]
  },
  {
   "cell_type": "code",
   "execution_count": 33,
   "metadata": {},
   "outputs": [
    {
     "data": {
      "text/plain": [
       "array([9680.16184998])"
      ]
     },
     "execution_count": 33,
     "metadata": {},
     "output_type": "execute_result"
    }
   ],
   "source": [
    "#find coefficent of regression \"m of y= b + mx\"\n",
    "reg.coef_"
   ]
  },
  {
   "cell_type": "code",
   "execution_count": 47,
   "metadata": {},
   "outputs": [
    {
     "data": {
      "text/plain": [
       "168444.67243823985"
      ]
     },
     "execution_count": 47,
     "metadata": {},
     "output_type": "execute_result"
    }
   ],
   "source": [
    "#find intercept b\n",
    "reg.intercept_"
   ]
  },
  {
   "cell_type": "code",
   "execution_count": 41,
   "metadata": {},
   "outputs": [
    {
     "data": {
      "text/plain": [
       "[<matplotlib.lines.Line2D at 0x8e750c0>]"
      ]
     },
     "execution_count": 41,
     "metadata": {},
     "output_type": "execute_result"
    },
    {
     "data": {
      "image/png": "[encoded data removed]",
      "text/plain": [
       "<Figure size 640x480 with 1 Axes>"
      ]
     },
     "metadata": {},
     "output_type": "display_data"
    }
   ],
   "source": [
    "%matplotlib inline\n",
    "plt.xlabel('sixes')\n",
    "plt.ylabel('sold price')\n",
    "plt.scatter(df.SIXERS, df.SOLD_PRICE, color= 'red', marker= '+')\n",
    "plt.plot(df.SIXERS,reg.predict(df[['SIXERS']]))"
   ]
  },
  {
   "cell_type": "code",
   "execution_count": null,
   "metadata": {},
   "outputs": [],
   "source": []
  },
  {
   "cell_type": "code",
   "execution_count": null,
   "metadata": {},
   "outputs": [],
   "source": []
  }
 ],
 "metadata": {
  "kernelspec": {
   "display_name": "Python 3 (ipykernel)",
   "language": "python",
   "name": "python3"
  },
  "language_info": {
   "codemirror_mode": {
    "name": "ipython",
    "version": 3
   },
   "file_extension": ".py",
   "mimetype": "text/x-python",
   "name": "python",
   "nbconvert_exporter": "python",
   "pygments_lexer": "ipython3",
   "version": "3.9.12"
  }
 },
 "nbformat": 4,
 "nbformat_minor": 4
}
